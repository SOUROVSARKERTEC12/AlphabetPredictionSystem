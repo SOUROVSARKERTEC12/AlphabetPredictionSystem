{
 "cells": [
  {
   "cell_type": "code",
   "execution_count": 3,
   "metadata": {
    "collapsed": true
   },
   "outputs": [],
   "source": [
    "from mnist import MNIST"
   ]
  },
  {
   "cell_type": "code",
   "execution_count": 4,
   "outputs": [],
   "source": [
    "data = MNIST(path='data/', return_type='numpy')\n",
    "data.select_emnist('letters')\n",
    "X, y = data.load_training()"
   ],
   "metadata": {
    "collapsed": false
   }
  },
  {
   "cell_type": "code",
   "execution_count": 5,
   "outputs": [
    {
     "data": {
      "text/plain": "((124800, 784), (124800,))"
     },
     "execution_count": 5,
     "metadata": {},
     "output_type": "execute_result"
    }
   ],
   "source": [
    "X.shape, y.shape"
   ],
   "metadata": {
    "collapsed": false
   }
  },
  {
   "cell_type": "code",
   "execution_count": 6,
   "outputs": [
    {
     "data": {
      "text/plain": "784"
     },
     "execution_count": 6,
     "metadata": {},
     "output_type": "execute_result"
    }
   ],
   "source": [
    "28*28"
   ],
   "metadata": {
    "collapsed": false
   }
  },
  {
   "cell_type": "code",
   "execution_count": 7,
   "outputs": [],
   "source": [
    "X = X.reshape(124800, 28, 28)\n",
    "y = y.reshape(124800, 1)"
   ],
   "metadata": {
    "collapsed": false
   }
  },
  {
   "cell_type": "code",
   "execution_count": 8,
   "outputs": [],
   "source": [
    "y = y-1"
   ],
   "metadata": {
    "collapsed": false
   }
  },
  {
   "cell_type": "code",
   "execution_count": 9,
   "outputs": [],
   "source": [
    "# list(y) --> y ranges from 0 to 25 now"
   ],
   "metadata": {
    "collapsed": false
   }
  },
  {
   "cell_type": "code",
   "execution_count": 10,
   "outputs": [],
   "source": [
    "from sklearn.model_selection import train_test_split"
   ],
   "metadata": {
    "collapsed": false
   }
  },
  {
   "cell_type": "code",
   "execution_count": 11,
   "outputs": [],
   "source": [
    "X_train, X_test, y_train, y_test = train_test_split(X, y, test_size = 0.2, random_state=50)"
   ],
   "metadata": {
    "collapsed": false
   }
  },
  {
   "cell_type": "code",
   "execution_count": 12,
   "outputs": [],
   "source": [
    "X_train = X_train.astype('float32')/255\n",
    "X_test = X_test.astype('float32')/255"
   ],
   "metadata": {
    "collapsed": false
   }
  },
  {
   "cell_type": "code",
   "execution_count": 13,
   "outputs": [],
   "source": [
    "#y_train, y_test"
   ],
   "metadata": {
    "collapsed": false
   }
  },
  {
   "cell_type": "code",
   "execution_count": 14,
   "outputs": [],
   "source": [
    "# pip install tensorflow\n",
    "# integer into one hot vector (binary class matrix)\n",
    "from keras.utils import np_utils\n",
    "y_train = np_utils.to_categorical(y_train, num_classes = 26)\n",
    "y_test = np_utils.to_categorical(y_test, num_classes = 26)"
   ],
   "metadata": {
    "collapsed": false
   }
  },
  {
   "cell_type": "code",
   "execution_count": 15,
   "outputs": [],
   "source": [
    "#y_train, y_test"
   ],
   "metadata": {
    "collapsed": false
   }
  },
  {
   "cell_type": "code",
   "execution_count": 16,
   "outputs": [],
   "source": [
    "### 3. Define our model"
   ],
   "metadata": {
    "collapsed": false
   }
  },
  {
   "cell_type": "code",
   "execution_count": 17,
   "outputs": [
    {
     "name": "stdout",
     "output_type": "stream",
     "text": [
      "Model: \"sequential\"\n",
      "_________________________________________________________________\n",
      " Layer (type)                Output Shape              Param #   \n",
      "=================================================================\n",
      " flatten (Flatten)           (None, 784)               0         \n",
      "                                                                 \n",
      " dense (Dense)               (None, 512)               401920    \n",
      "                                                                 \n",
      " dropout (Dropout)           (None, 512)               0         \n",
      "                                                                 \n",
      " dense_1 (Dense)             (None, 512)               262656    \n",
      "                                                                 \n",
      " dropout_1 (Dropout)         (None, 512)               0         \n",
      "                                                                 \n",
      " dense_2 (Dense)             (None, 26)                13338     \n",
      "                                                                 \n",
      "=================================================================\n",
      "Total params: 677,914\n",
      "Trainable params: 677,914\n",
      "Non-trainable params: 0\n",
      "_________________________________________________________________\n"
     ]
    }
   ],
   "source": [
    "from keras.models import Sequential\n",
    "from keras.layers import Dense, Dropout, Flatten\n",
    "\n",
    "model = Sequential()\n",
    "model.add(Flatten(input_shape = (28,28)))\n",
    "model.add(Dense(512, activation='relu'))\n",
    "model.add(Dropout(0.2)) # preventing overfitting\n",
    "model.add(Dense(512, activation = 'relu'))\n",
    "model.add(Dropout(0.2))\n",
    "model.add(Dense(26, activation='softmax'))\n",
    "\n",
    "model.summary()\n",
    "\n",
    "model.compile(loss= 'categorical_crossentropy', optimizer = 'adam', metrics=['accuracy'])"
   ],
   "metadata": {
    "collapsed": false
   }
  },
  {
   "cell_type": "code",
   "execution_count": 18,
   "outputs": [],
   "source": [
    "### 4. calculate accuracy"
   ],
   "metadata": {
    "collapsed": false
   }
  },
  {
   "cell_type": "code",
   "execution_count": 19,
   "outputs": [
    {
     "name": "stdout",
     "output_type": "stream",
     "text": [
      "Before training, test accuracy is 4.198718070983887\n"
     ]
    }
   ],
   "source": [
    "# before training\n",
    "score = model.evaluate(X_test, y_test, verbose=0)\n",
    "accuracy = 100*score[1]\n",
    "print(\"Before training, test accuracy is\", accuracy)"
   ],
   "metadata": {
    "collapsed": false
   }
  },
  {
   "cell_type": "code",
   "execution_count": 20,
   "outputs": [],
   "source": [
    "# let's train our model"
   ],
   "metadata": {
    "collapsed": false
   }
  },
  {
   "cell_type": "code",
   "execution_count": 21,
   "outputs": [
    {
     "name": "stdout",
     "output_type": "stream",
     "text": [
      "Epoch 1/10\n",
      "619/624 [============================>.] - ETA: 0s - loss: 0.8072 - accuracy: 0.7549\n",
      "Epoch 1: val_loss improved from inf to 0.43878, saving model to best_model.h5\n",
      "624/624 [==============================] - 6s 9ms/step - loss: 0.8044 - accuracy: 0.7558 - val_loss: 0.4388 - val_accuracy: 0.8669\n",
      "Epoch 2/10\n",
      "621/624 [============================>.] - ETA: 0s - loss: 0.4294 - accuracy: 0.8635\n",
      "Epoch 2: val_loss improved from 0.43878 to 0.34786, saving model to best_model.h5\n",
      "624/624 [==============================] - 6s 9ms/step - loss: 0.4294 - accuracy: 0.8635 - val_loss: 0.3479 - val_accuracy: 0.8891\n",
      "Epoch 3/10\n",
      "619/624 [============================>.] - ETA: 0s - loss: 0.3459 - accuracy: 0.8868\n",
      "Epoch 3: val_loss improved from 0.34786 to 0.32603, saving model to best_model.h5\n",
      "624/624 [==============================] - 7s 10ms/step - loss: 0.3456 - accuracy: 0.8870 - val_loss: 0.3260 - val_accuracy: 0.8959\n",
      "Epoch 4/10\n",
      "623/624 [============================>.] - ETA: 0s - loss: 0.2994 - accuracy: 0.9005\n",
      "Epoch 4: val_loss improved from 0.32603 to 0.29433, saving model to best_model.h5\n",
      "624/624 [==============================] - 7s 11ms/step - loss: 0.2995 - accuracy: 0.9005 - val_loss: 0.2943 - val_accuracy: 0.9065\n",
      "Epoch 5/10\n",
      "621/624 [============================>.] - ETA: 0s - loss: 0.2644 - accuracy: 0.9101\n",
      "Epoch 5: val_loss improved from 0.29433 to 0.28202, saving model to best_model.h5\n",
      "624/624 [==============================] - 6s 9ms/step - loss: 0.2646 - accuracy: 0.9102 - val_loss: 0.2820 - val_accuracy: 0.9084\n",
      "Epoch 6/10\n",
      "624/624 [==============================] - ETA: 0s - loss: 0.2418 - accuracy: 0.9164\n",
      "Epoch 6: val_loss improved from 0.28202 to 0.27672, saving model to best_model.h5\n",
      "624/624 [==============================] - 6s 9ms/step - loss: 0.2418 - accuracy: 0.9164 - val_loss: 0.2767 - val_accuracy: 0.9120\n",
      "Epoch 7/10\n",
      "621/624 [============================>.] - ETA: 0s - loss: 0.2219 - accuracy: 0.9226\n",
      "Epoch 7: val_loss did not improve from 0.27672\n",
      "624/624 [==============================] - 5s 8ms/step - loss: 0.2219 - accuracy: 0.9226 - val_loss: 0.2810 - val_accuracy: 0.9128\n",
      "Epoch 8/10\n",
      "624/624 [==============================] - ETA: 0s - loss: 0.2067 - accuracy: 0.9274\n",
      "Epoch 8: val_loss did not improve from 0.27672\n",
      "624/624 [==============================] - 6s 9ms/step - loss: 0.2067 - accuracy: 0.9274 - val_loss: 0.2865 - val_accuracy: 0.9122\n",
      "Epoch 9/10\n",
      "619/624 [============================>.] - ETA: 0s - loss: 0.1930 - accuracy: 0.9295\n",
      "Epoch 9: val_loss did not improve from 0.27672\n",
      "624/624 [==============================] - 6s 10ms/step - loss: 0.1931 - accuracy: 0.9294 - val_loss: 0.2806 - val_accuracy: 0.9150\n",
      "Epoch 10/10\n",
      "623/624 [============================>.] - ETA: 0s - loss: 0.1824 - accuracy: 0.9333\n",
      "Epoch 10: val_loss did not improve from 0.27672\n",
      "624/624 [==============================] - 6s 10ms/step - loss: 0.1825 - accuracy: 0.9333 - val_loss: 0.2783 - val_accuracy: 0.9158\n"
     ]
    }
   ],
   "source": [
    "from keras.callbacks import ModelCheckpoint\n",
    "checkpointer = ModelCheckpoint(filepath = 'best_model.h5', verbose=1, save_best_only = True)\n",
    "model.fit(X_train, y_train, batch_size = 128, epochs= 10, validation_split = 0.2,\n",
    "          callbacks=[checkpointer], verbose=1, shuffle=True)\n",
    "model.load_weights('best_model.h5')"
   ],
   "metadata": {
    "collapsed": false
   }
  },
  {
   "cell_type": "code",
   "execution_count": 22,
   "outputs": [
    {
     "name": "stdout",
     "output_type": "stream",
     "text": [
      "Test accuracy is  91.35416746139526\n"
     ]
    }
   ],
   "source": [
    "# calculate test accuracy\n",
    "score = model.evaluate(X_test, y_test, verbose=0)\n",
    "accuracy = 100*score[1]\n",
    "\n",
    "print(\"Test accuracy is \", accuracy)"
   ],
   "metadata": {
    "collapsed": false
   }
  },
  {
   "cell_type": "code",
   "execution_count": 22,
   "outputs": [],
   "source": [
    "from keras.models import load_model"
   ],
   "metadata": {
    "collapsed": false
   }
  },
  {
   "cell_type": "code",
   "execution_count": 22,
   "outputs": [],
   "source": [
    "model = load_model('best_model.h5')"
   ],
   "metadata": {
    "collapsed": false
   }
  },
  {
   "cell_type": "code",
   "execution_count": 23,
   "outputs": [],
   "source": [
    "letters ={ 0:'a', 1:'b', 2:'c', 3:'d', 4:'e', 5:'f', 6:'g', 7:'h', 8:'i', 9:'j', 10:'k', 11:'l',\n",
    "          12:'m', 13:'n', 14:'o', 15:'p', 16:'q', 17:'r', 18:'s', 19:'t', 20:'u', 21:'v', 22:'w',\n",
    "          23:'x', 24:'y', 25:'z', 26:''}"
   ],
   "metadata": {
    "collapsed": false
   }
  },
  {
   "cell_type": "code",
   "execution_count": 24,
   "outputs": [],
   "source": [
    "# defining blue color in hsv format\n",
    "# pip install numpy\n",
    "import numpy as np\n",
    "blueLower = np.array([100,60,60])\n",
    "blueUpper = np.array([140,255,255])"
   ],
   "metadata": {
    "collapsed": false
   }
  },
  {
   "cell_type": "code",
   "execution_count": 25,
   "outputs": [],
   "source": [
    "kernel = np.ones((5,5), np.uint8)"
   ],
   "metadata": {
    "collapsed": false
   }
  },
  {
   "cell_type": "code",
   "execution_count": 26,
   "outputs": [],
   "source": [
    "# define blackboard\n",
    "blackboard = np.zeros((480,640, 3), dtype=np.uint8)\n",
    "alphabet = np.zeros((200,200,3), dtype=np.uint8)"
   ],
   "metadata": {
    "collapsed": false
   }
  },
  {
   "cell_type": "code",
   "execution_count": 27,
   "outputs": [],
   "source": [
    "# dequeues (Double ended queue) is used to store alphabet drawn on screen\n",
    "from collections import deque\n",
    "points = deque(maxlen = 512)"
   ],
   "metadata": {
    "collapsed": false
   }
  },
  {
   "cell_type": "code",
   "execution_count": 30,
   "outputs": [
    {
     "name": "stdout",
     "output_type": "stream",
     "text": [
      "1/1 [==============================] - 0s 19ms/step\n",
      "1/1 [==============================] - 0s 19ms/step\n",
      "1/1 [==============================] - 0s 18ms/step\n",
      "1/1 [==============================] - 0s 20ms/step\n",
      "1/1 [==============================] - 0s 19ms/step\n",
      "1/1 [==============================] - 0s 19ms/step\n",
      "1/1 [==============================] - 0s 19ms/step\n",
      "1/1 [==============================] - 0s 18ms/step\n"
     ]
    }
   ],
   "source": [
    "import cv2 #pip install opencv-python\n",
    "cap = cv2.VideoCapture(0)\n",
    "prediction = 26\n",
    "while True:\n",
    "    ret, frame=cap.read()\n",
    "    frame = cv2.flip(frame, 1)\n",
    "\n",
    "    hsv = cv2.cvtColor(frame, cv2.COLOR_BGR2HSV)\n",
    "    gray = cv2.cvtColor(frame, cv2.COLOR_BGR2GRAY)\n",
    "\n",
    "    # Detecting which pixel value falls under blue color boundaries\n",
    "    blue = cv2.inRange(hsv, blueLower, blueUpper)\n",
    "\n",
    "    #erosion\n",
    "    blue = cv2.erode(blue, kernel)\n",
    "    #opening\n",
    "    blue = cv2.morphologyEx(blue, cv2.MORPH_OPEN, kernel)\n",
    "    #dilation\n",
    "    blue = cv2.dilate(blue, kernel)\n",
    "\n",
    "    # find countours in the image\n",
    "    cnts , _ = cv2.findContours(blue, cv2.RETR_EXTERNAL, cv2.CHAIN_APPROX_SIMPLE)\n",
    "\n",
    "    center = None\n",
    "\n",
    "    # if any countours were found\n",
    "    if len(cnts) > 0:\n",
    "        cnt = sorted(cnts, key = cv2.contourArea, reverse=True)[0]\n",
    "        ((x,y), radius) = cv2.minEnclosingCircle(cnt)\n",
    "        cv2.circle(frame, (int(x), int(y),), int(radius), (125,344,278), 2)\n",
    "\n",
    "        M = cv2.moments(cnt)\n",
    "        center = (int(M['m10']/M['m00']), int(M['m01']/M['m00']))\n",
    "\n",
    "        points.appendleft(center)\n",
    "\n",
    "    elif len(cnts) == 0:\n",
    "        if len(points) != 0:\n",
    "            blackboard_gray = cv2.cvtColor(blackboard, cv2.COLOR_BGR2GRAY)\n",
    "            blur = cv2.medianBlur(blackboard_gray, 15)\n",
    "            blur = cv2.GaussianBlur(blur, (5,5), 0)\n",
    "            thresh = cv2.threshold(blur, 0, 255, cv2.THRESH_BINARY+cv2.THRESH_OTSU)[1]\n",
    "            #cv2.imshow(\"Thresh\", thresh)\n",
    "\n",
    "            blackboard_cnts = cv2.findContours(thresh, cv2.RETR_TREE, cv2.CHAIN_APPROX_NONE)[0]\n",
    "\n",
    "            if len(blackboard_cnts)>=1:\n",
    "                cnt = sorted(blackboard_cnts, key=cv2.contourArea, reverse=True)[0]\n",
    "\n",
    "                if cv2.contourArea(cnt)>1000:\n",
    "                    x,y,w,h = cv2.boundingRect(cnt)\n",
    "                    alphabet = blackboard_gray[y-10:y+h+10,x-10:x+w+10]\n",
    "                    try:\n",
    "                        img = cv2.resize(alphabet, (28,28))\n",
    "                    except cv2.error as e:\n",
    "                        continue\n",
    "\n",
    "                    img = np.array(img)\n",
    "                    img = img.astype('float32')/255\n",
    "\n",
    "                    prediction = model.predict(img.reshape(1,28,28))[0]\n",
    "                    prediction = np.argmax(prediction)\n",
    "\n",
    "            # Empty the point deque and also blackboard\n",
    "            points = deque(maxlen=512)\n",
    "            blackboard = np.zeros((480,640, 3), dtype=np.uint8)\n",
    "\n",
    "    # connect the detected points with line\n",
    "    for i in range(1, len(points)):\n",
    "        if points[i-1] is None or points[i] is None:\n",
    "            continue\n",
    "        cv2.line(frame, points[i-1], points[i], (0,0,0), 2)\n",
    "        cv2.line(blackboard, points[i-1], points[i], (255,255,255), 8)\n",
    "\n",
    "\n",
    "    cv2.putText(frame, \"Prediction: \" + str(letters[int(prediction)]), (20,400), cv2.FONT_HERSHEY_SIMPLEX, 0.8, (255,255,255), 2)\n",
    "\n",
    "\n",
    "    cv2.imshow(\"Alphabet Recognition System\", frame)\n",
    "\n",
    "    if cv2.waitKey(1)==13: #if I press enter\n",
    "        break\n",
    "cap.release()\n",
    "cv2.destroyAllWindows()"
   ],
   "metadata": {
    "collapsed": false
   }
  },
  {
   "cell_type": "code",
   "execution_count": null,
   "outputs": [],
   "source": [],
   "metadata": {
    "collapsed": false
   }
  }
 ],
 "metadata": {
  "kernelspec": {
   "display_name": "Python 3",
   "language": "python",
   "name": "python3"
  },
  "language_info": {
   "codemirror_mode": {
    "name": "ipython",
    "version": 2
   },
   "file_extension": ".py",
   "mimetype": "text/x-python",
   "name": "python",
   "nbconvert_exporter": "python",
   "pygments_lexer": "ipython2",
   "version": "2.7.6"
  }
 },
 "nbformat": 4,
 "nbformat_minor": 0
}
